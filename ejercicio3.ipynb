{
 "cells": [
  {
   "cell_type": "code",
   "execution_count": null,
   "metadata": {},
   "outputs": [],
   "source": [
    "import numpy as np\n",
    "import matplotlib.pyplot as plt\n",
    "from sklearn.linear_model import LinearRegression\n",
    "\n",
    "temperatura = np.array([20,25,30,35,40,45,50,55])\n",
    "consumo = np.array([300,320,350,380,400,420,450,480])\n",
    "\n",
    "media_temperatura = np.mean(temperatura)\n",
    "media_consumo = np.mean(consumo)\n",
    "\n",
    "std = np.std(temperatura)\n",
    "var = np.var(temperatura)\n",
    "cov = np.cov(temperatura, consumo)\n",
    "\n",
    "print(\"media temperatura: {}, media consumo: {}, std: {}, var: {}, cov\".format(media_temperatura,media_consumo,std,var,cov))\n",
    "print(cov)\n",
    "\n",
    "b1, b0 =np.polyfit(temperatura, consumo, 1)\n",
    "plt.scatter(temperatura, consumo, color = \"Blue\", label = \"Datos\")\n",
    "plt.plot(temperatura, b1*temperatura+b0, color = \"Red\", label = \"Regresion\")\n",
    "plt.legend"
   ]
  }
 ],
 "metadata": {
  "language_info": {
   "name": "python"
  }
 },
 "nbformat": 4,
 "nbformat_minor": 2
}
