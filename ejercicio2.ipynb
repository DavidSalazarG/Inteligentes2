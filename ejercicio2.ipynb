{
 "cells": [
  {
   "cell_type": "code",
   "execution_count": null,
   "metadata": {},
   "outputs": [],
   "source": [
    "import numpy as np\n",
    "import matplotlib.pyplot as plt\n",
    "from sklearn.linear_model import LinearRegression\n",
    "\n",
    "altura = np.array([150,155,160,165,170,175,180,185])\n",
    "peso = np.array([45,50,55,60,65,70,75,80])\n",
    "\n",
    "media_altura = np.mean(altura)\n",
    "media_peso = np.mean(peso)\n",
    "\n",
    "std = np.std(altura)\n",
    "var = np.var(altura)\n",
    "cov = np.cov(altura, peso)\n",
    "\n",
    "print(\"media altura: {}, media peso: {}, std: {}, var: {}, cov\".format(media_altura,media_peso,std,var,cov))\n",
    "print(cov)\n",
    "\n",
    "b1, b0 =np.polyfit(altura, peso, 1)\n",
    "plt.scatter(altura, peso, color = \"Blue\", label = \"Datos\")\n",
    "plt.plot(altura, b1*altura+b0, color = \"Red\", label = \"Regresion\")\n",
    "plt.legend"
   ]
  }
 ],
 "metadata": {
  "language_info": {
   "name": "python"
  }
 },
 "nbformat": 4,
 "nbformat_minor": 2
}
