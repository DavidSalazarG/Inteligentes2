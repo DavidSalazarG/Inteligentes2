{
 "cells": [
  {
   "cell_type": "code",
   "execution_count": null,
   "metadata": {},
   "outputs": [],
   "source": [
    "import numpy as np\n",
    "import matplotlib.pyplot as plt\n",
    "from sklearn.linear_model import LinearRegression\n",
    "\n",
    "meses = np.array([1,2,3,4,5,6,7,8,9,10,11,12])\n",
    "ventas = np.array([20,25,30,35,40,45,50,55,60,65,70,75])\n",
    "\n",
    "media_meses = np.mean(meses)\n",
    "media_ventas = np.mean(ventas)\n",
    "\n",
    "std = np.std(meses)\n",
    "var = np.var(meses)\n",
    "cov = np.cov(meses, ventas)\n",
    "\n",
    "print(\"media meses: {}, media ventas: {}, std: {}, var: {}, cov\".format(media_meses,media_ventas,std,var,cov))\n",
    "print(cov)\n",
    "\n",
    "b1, b0 =np.polyfit(meses, ventas, 1)\n",
    "plt.scatter(meses, ventas, color = \"Blue\", label = \"Datos\")\n",
    "plt.plot(meses, b1*meses+b0, color = \"Red\", label = \"Regresion\")\n",
    "plt.legend"
   ]
  }
 ],
 "metadata": {
  "language_info": {
   "name": "python"
  }
 },
 "nbformat": 4,
 "nbformat_minor": 2
}
